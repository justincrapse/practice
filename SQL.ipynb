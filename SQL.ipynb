{
 "cells": [
  {
   "cell_type": "code",
   "execution_count": 1,
   "metadata": {},
   "outputs": [
    {
     "data": {
      "text/plain": [
       "0"
      ]
     },
     "execution_count": 1,
     "metadata": {},
     "output_type": "execute_result"
    }
   ],
   "source": [
    "import pymysql\n",
    "\n",
    "from db_setup import SQL_SETUP\n",
    "\n",
    "connection = pymysql.connect(host='localhost',\n",
    "                             user='justin',\n",
    "                             password='sonic',\n",
    "                             db='play',\n",
    "                             charset='utf8mb4',\n",
    "                             cursorclass=pymysql.cursors.DictCursor)\n",
    "\n",
    "# setup\n",
    "cursor =  connection.cursor()\n",
    "sql = SQL_SETUP\n",
    "cursor.execute(sql)"
   ]
  },
  {
   "cell_type": "code",
   "execution_count": 2,
   "metadata": {},
   "outputs": [
    {
     "data": {
      "text/plain": [
       "[{'Tables_in_play': 'customers'},\n",
       " {'Tables_in_play': 'flights'},\n",
       " {'Tables_in_play': 'planes'},\n",
       " {'Tables_in_play': 'purchases'},\n",
       " {'Tables_in_play': 'shwang'}]"
      ]
     },
     "execution_count": 2,
     "metadata": {},
     "output_type": "execute_result"
    }
   ],
   "source": [
    "sql = 'show tables;'\n",
    "cursor.execute(sql)\n",
    "cursor.fetchall()"
   ]
  },
  {
   "cell_type": "code",
   "execution_count": 3,
   "metadata": {},
   "outputs": [
    {
     "data": {
      "text/plain": [
       "[{'Tables_in_play': 'customers'},\n",
       " {'Tables_in_play': 'flights'},\n",
       " {'Tables_in_play': 'planes'},\n",
       " {'Tables_in_play': 'purchases'}]"
      ]
     },
     "execution_count": 3,
     "metadata": {},
     "output_type": "execute_result"
    }
   ],
   "source": [
    "sql = 'drop table shwang;'\n",
    "cursor.execute(sql)\n",
    "sql = 'show tables;'\n",
    "cursor.execute(sql)\n",
    "cursor.fetchall()"
   ]
  },
  {
   "cell_type": "code",
   "execution_count": 4,
   "metadata": {},
   "outputs": [
    {
     "data": {
      "text/plain": [
       "()"
      ]
     },
     "execution_count": 4,
     "metadata": {},
     "output_type": "execute_result"
    }
   ],
   "source": [
    "sql = 'select * from flights;'\n",
    "cursor.execute(sql)\n",
    "cursor.fetchall()"
   ]
  },
  {
   "cell_type": "code",
   "execution_count": 5,
   "metadata": {
    "collapsed": true
   },
   "outputs": [],
   "source": [
    "from random import sample\n",
    "flight_id = sample(list(range(1, 600)), k=100)\n",
    "plane_id = sample(list(range(1, 200)), k=100)\n",
    "for flight, plane in zip(flight_id, plane_id):\n",
    "    sql = 'insert into flights (flight_id, plane_id) values ({}, {})'.format(flight, plane)\n",
    "    cursor.execute(sql)"
   ]
  },
  {
   "cell_type": "code",
   "execution_count": 6,
   "metadata": {},
   "outputs": [
    {
     "data": {
      "text/plain": [
       "[{'flight_id': 35, 'plane_id': 3},\n",
       " {'flight_id': 40, 'plane_id': 61},\n",
       " {'flight_id': 69, 'plane_id': 17},\n",
       " {'flight_id': 74, 'plane_id': 55},\n",
       " {'flight_id': 76, 'plane_id': 53}]"
      ]
     },
     "execution_count": 6,
     "metadata": {},
     "output_type": "execute_result"
    }
   ],
   "source": [
    "sql = 'select * from flights where plane_id < 100 limit 5;'\n",
    "cursor.execute(sql)\n",
    "cursor.fetchall()"
   ]
  },
  {
   "cell_type": "code",
   "execution_count": 7,
   "metadata": {},
   "outputs": [
    {
     "data": {
      "text/plain": [
       "[{'flight_id': 1, 'plane_id': 0},\n",
       " {'flight_id': 8, 'plane_id': 0},\n",
       " {'flight_id': 9, 'plane_id': 0},\n",
       " {'flight_id': 11, 'plane_id': 0},\n",
       " {'flight_id': 35, 'plane_id': 3}]"
      ]
     },
     "execution_count": 7,
     "metadata": {},
     "output_type": "execute_result"
    }
   ],
   "source": [
    "sql = 'update flights set plane_id = 0 where plane_id > 50;'\n",
    "cursor.execute(sql)\n",
    "sql = 'select * from flights where plane_id < 100 limit 5;'\n",
    "cursor.execute(sql)\n",
    "cursor.fetchall()"
   ]
  },
  {
   "cell_type": "code",
   "execution_count": 8,
   "metadata": {},
   "outputs": [
    {
     "data": {
      "text/plain": [
       "[{'flight_id': 35, 'plane_id': 3},\n",
       " {'flight_id': 69, 'plane_id': 17},\n",
       " {'flight_id': 84, 'plane_id': 9},\n",
       " {'flight_id': 92, 'plane_id': 48},\n",
       " {'flight_id': 105, 'plane_id': 32}]"
      ]
     },
     "execution_count": 8,
     "metadata": {},
     "output_type": "execute_result"
    }
   ],
   "source": [
    "sql = 'delete from flights where plane_id = 0;'\n",
    "cursor.execute(sql)\n",
    "sql = 'select * from flights where plane_id < 100 limit 5'\n",
    "cursor.execute(sql)\n",
    "cursor.fetchall()"
   ]
  },
  {
   "cell_type": "code",
   "execution_count": 9,
   "metadata": {},
   "outputs": [
    {
     "data": {
      "text/plain": [
       "0"
      ]
     },
     "execution_count": 9,
     "metadata": {},
     "output_type": "execute_result"
    }
   ],
   "source": [
    "# create a customer table:\n",
    "\n",
    "sql = 'drop table if exists customers;'\n",
    "cursor.execute(sql)\n",
    "sql = 'create table customers (\\\n",
    "       customer_id int auto_increment, \\\n",
    "       first_name varchar(30), \\\n",
    "       last_name varchar(30), \\\n",
    "       primary key (customer_id));'\n",
    "cursor.execute(sql)"
   ]
  },
  {
   "cell_type": "code",
   "execution_count": 10,
   "metadata": {},
   "outputs": [
    {
     "data": {
      "text/plain": [
       "4"
      ]
     },
     "execution_count": 10,
     "metadata": {},
     "output_type": "execute_result"
    }
   ],
   "source": [
    "# update the purchase table to reference a customer table and add in missing values to new column\n",
    "\n",
    "sql = 'alter table purchases add customer_id int, \\\n",
    "       add foreign key (customer_id) references customers(customer_id);'\n",
    "cursor.execute(sql)\n"
   ]
  },
  {
   "cell_type": "code",
   "execution_count": 11,
   "metadata": {},
   "outputs": [
    {
     "data": {
      "text/plain": [
       "[{'customer_id': 32, 'flight_id': 111, 'purchase_id': 1, 'seat_no': 1},\n",
       " {'customer_id': 32, 'flight_id': 87, 'purchase_id': 2, 'seat_no': 1},\n",
       " {'customer_id': 32, 'flight_id': 87, 'purchase_id': 3, 'seat_no': 7},\n",
       " {'customer_id': 32, 'flight_id': 100, 'purchase_id': 4, 'seat_no': 5}]"
      ]
     },
     "execution_count": 11,
     "metadata": {},
     "output_type": "execute_result"
    }
   ],
   "source": [
    "# first tell mysql to not check forighn key constraints temporarily:\n",
    "sql = 'SET foreign_key_checks = 0;\\\n",
    "       update purchases set customer_id = 32 where customer_id is null;\\\n",
    "       SET foreign_key_checks = 1;'\n",
    "\n",
    "cursor.execute(sql)\n",
    "sql = 'select * from purchases;'\n",
    "cursor.execute(sql)\n",
    "cursor.fetchall()"
   ]
  },
  {
   "cell_type": "code",
   "execution_count": 13,
   "metadata": {},
   "outputs": [
    {
     "data": {
      "text/plain": [
       "[{'customer_id': 1, 'first_name': 'zazi', 'last_name': 'badutunaraj'},\n",
       " {'customer_id': 2, 'first_name': 'miqahib', 'last_name': 'gotyrahen'},\n",
       " {'customer_id': 3, 'first_name': 'ho', 'last_name': 'havyji'},\n",
       " {'customer_id': 4, 'first_name': 'hiliw', 'last_name': 'wunajo'},\n",
       " {'customer_id': 5, 'first_name': 'xemapir', 'last_name': 'cayivipo'}]"
      ]
     },
     "execution_count": 13,
     "metadata": {},
     "output_type": "execute_result"
    }
   ],
   "source": [
    "# populate the customers table:\n",
    "from random import choice, choices, randint\n",
    "\n",
    "def get_vowel():\n",
    "    return choices(['a', 'e', 'i', 'o', 'u', 'y'], weights=[10, 5, 7, 4, 5, 1], k=1)[0]\n",
    "def get_consonant():\n",
    "    return choice(list(set([chr(i) for i in range(ord('a'), ord('z') + 1)]) - set(['a', 'e', 'i', 'o', 'u'])))\n",
    "def get_name(n_len):\n",
    "    name = []\n",
    "    for i in range(randint(*n_len)):\n",
    "        name.append(get_consonant())\n",
    "        name.append(get_vowel())\n",
    "    if choice([True, False]):\n",
    "        name.append(get_consonant())\n",
    "    return ''.join(name)\n",
    "\n",
    "for i in range(200):\n",
    "    first_name = get_name([1, 3])\n",
    "    last_name = get_name([3, 5])\n",
    "    sql = f'insert into customers (first_name, last_name) values (\"{first_name}\", \"{last_name}\");'\n",
    "    cursor.execute(sql)\n",
    "sql = 'select * from customers limit 5;'\n",
    "cursor.execute(sql)\n",
    "cursor.fetchall()"
   ]
  },
  {
   "cell_type": "code",
   "execution_count": 35,
   "metadata": {},
   "outputs": [
    {
     "data": {
      "text/plain": [
       "[{'customer_id': 290, 'first_name': 'qiki', 'last_name': 'femahal'},\n",
       " {'customer_id': 174, 'first_name': 'kiryqap', 'last_name': 'hozicicag'},\n",
       " {'customer_id': 217, 'first_name': 'ki', 'last_name': 'kayahyze'},\n",
       " {'customer_id': 43, 'first_name': 'kinutat', 'last_name': 'kohikoyacam'},\n",
       " {'customer_id': 321, 'first_name': 'kivoxuj', 'last_name': 'vijezeweviq'}]"
      ]
     },
     "execution_count": 35,
     "metadata": {},
     "output_type": "execute_result"
    }
   ],
   "source": [
    "sql = 'select * from customers where first_name like \"%ki%\";'\n",
    "cursor.execute(sql)\n",
    "cursor.fetchall()"
   ]
  },
  {
   "cell_type": "code",
   "execution_count": 37,
   "metadata": {},
   "outputs": [
    {
     "data": {
      "text/plain": [
       "[{'customer_id': 1, 'first_name': 'zazi', 'last_name': 'badutunaraj'},\n",
       " {'customer_id': 356, 'first_name': 'heni', 'last_name': 'bakefejinat'},\n",
       " {'customer_id': 44, 'first_name': 'xeniw', 'last_name': 'bakuzu'},\n",
       " {'customer_id': 156, 'first_name': 'si', 'last_name': 'balamihyt'},\n",
       " {'customer_id': 257, 'first_name': 'ralaxap', 'last_name': 'baxujimixiz'}]"
      ]
     },
     "execution_count": 37,
     "metadata": {},
     "output_type": "execute_result"
    }
   ],
   "source": [
    "sql = 'select * from customers order by last_name limit 5;'\n",
    "cursor.execute(sql)\n",
    "cursor.fetchall()"
   ]
  },
  {
   "cell_type": "code",
   "execution_count": 43,
   "metadata": {},
   "outputs": [
    {
     "data": {
      "text/plain": [
       "[{'customer_id': 151, 'flight_id': 111, 'purchase_id': 1, 'seat_no': 1},\n",
       " {'customer_id': 151, 'flight_id': 87, 'purchase_id': 2, 'seat_no': 1},\n",
       " {'customer_id': 151, 'flight_id': 87, 'purchase_id': 3, 'seat_no': 7},\n",
       " {'customer_id': 151, 'flight_id': 100, 'purchase_id': 4, 'seat_no': 5}]"
      ]
     },
     "execution_count": 43,
     "metadata": {},
     "output_type": "execute_result"
    }
   ],
   "source": []
  },
  {
   "cell_type": "code",
   "execution_count": 44,
   "metadata": {},
   "outputs": [
    {
     "data": {
      "text/plain": [
       "[{'flight_id': 111, 'last_name': 'nihihazu', 'seat_no': 1},\n",
       " {'flight_id': 87, 'last_name': 'nihihazu', 'seat_no': 1},\n",
       " {'flight_id': 87, 'last_name': 'nihihazu', 'seat_no': 7},\n",
       " {'flight_id': 100, 'last_name': 'nihihazu', 'seat_no': 5}]"
      ]
     },
     "execution_count": 44,
     "metadata": {},
     "output_type": "execute_result"
    }
   ],
   "source": [
    "sql = 'select last_name, flight_id, seat_no from customers as cu join purchases as pu on cu.customer_id = pu.customer_id;'\n",
    "cursor.execute(sql)\n",
    "cursor.fetchall()"
   ]
  },
  {
   "cell_type": "code",
   "execution_count": 46,
   "metadata": {},
   "outputs": [
    {
     "data": {
      "text/plain": [
       "[{'number_of_seats': 7, 'plane_id': 23},\n",
       " {'number_of_seats': 5, 'plane_id': 128},\n",
       " {'number_of_seats': 4, 'plane_id': 157},\n",
       " {'number_of_seats': 2, 'plane_id': 239}]"
      ]
     },
     "execution_count": 46,
     "metadata": {},
     "output_type": "execute_result"
    }
   ],
   "source": [
    "sql = 'select * from planes;'\n",
    "cursor.execute(sql)\n",
    "cursor.fetchall()"
   ]
  }
 ],
 "metadata": {
  "kernelspec": {
   "display_name": "Python 3",
   "language": "python",
   "name": "python3"
  },
  "language_info": {
   "codemirror_mode": {
    "name": "ipython",
    "version": 3
   },
   "file_extension": ".py",
   "mimetype": "text/x-python",
   "name": "python",
   "nbconvert_exporter": "python",
   "pygments_lexer": "ipython3",
   "version": "3.6.1"
  }
 },
 "nbformat": 4,
 "nbformat_minor": 2
}
